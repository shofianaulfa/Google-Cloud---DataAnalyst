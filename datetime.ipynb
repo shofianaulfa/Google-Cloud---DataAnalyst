{
  "nbformat": 4,
  "nbformat_minor": 0,
  "metadata": {
    "colab": {
      "private_outputs": true,
      "provenance": [],
      "authorship_tag": "ABX9TyOWgocfZYDDyNEQ93DzzOqV",
      "include_colab_link": true
    },
    "kernelspec": {
      "name": "python3",
      "display_name": "Python 3"
    },
    "language_info": {
      "name": "python"
    }
  },
  "cells": [
    {
      "cell_type": "markdown",
      "metadata": {
        "id": "view-in-github",
        "colab_type": "text"
      },
      "source": [
        "<a href=\"https://colab.research.google.com/github/shofianaulfa/Google-Cloud---DataAnalyst/blob/master/datetime.ipynb\" target=\"_parent\"><img src=\"https://colab.research.google.com/assets/colab-badge.svg\" alt=\"Open In Colab\"/></a>"
      ]
    },
    {
      "cell_type": "code",
      "source": [
        "data_science_jobs = [\n",
        "    {'job_title': 'Data Scientist', 'job_skills': \"['Python', 'SQL', 'Machine Learning']\", 'job_date': '2023-05-12'},\n",
        "    {'job_title': 'Machine Learning Engineer', 'job_skills': \"['Python', 'TensorFlow', 'Deep Learning']\", 'job_date': '2023-06-15'},\n",
        "    {'job_title': 'Data Analyst', 'job_skills': \"['Excel', 'SQL', 'Data Visualization']\", 'job_date': '2023-07-01'},\n",
        "    {'job_title': 'Data Engineer', 'job_skills': \"['Python', 'Hadoop', 'ETL']\", 'job_date': '2023-06-28'},\n",
        "    {'job_title': 'Business Intelligence Analyst', 'job_skills': \"['SQL', 'Tableau', 'Power BI']\", 'job_date': '2023-05-25'},\n",
        "    {'job_title': 'AI Researcher', 'job_skills': \"['Python', 'PyTorch', 'NLP']\", 'job_date': '2023-07-10'},\n",
        "    {'job_title': 'Data Science Consultant', 'job_skills': \"['Python', 'R', 'Statistics']\", 'job_date': '2023-08-05'},\n",
        "    {'job_title': 'Data Architect', 'job_skills': \"['SQL', 'Data Modeling', 'Database Design']\", 'job_date': '2023-06-20'},\n",
        "    {'job_title': 'Big Data Specialist', 'job_skills': \"['Hadoop', 'Spark', 'NoSQL']\", 'job_date': '2023-07-25'},\n",
        "    {'job_title': 'Quantitative Analyst', 'job_skills': \"['Python', 'R', 'Financial Modeling']\", 'job_date': '2023-08-15'},\n",
        "]\n"
      ],
      "metadata": {
        "id": "ufgWsIv7_eF0"
      },
      "execution_count": null,
      "outputs": []
    },
    {
      "cell_type": "markdown",
      "source": [
        "**datetime**"
      ],
      "metadata": {
        "id": "ZgNwM5v3CiHP"
      }
    },
    {
      "cell_type": "code",
      "source": [
        "from datetime import datetime, date"
      ],
      "metadata": {
        "id": "FGcL2ariCmb0"
      },
      "execution_count": null,
      "outputs": []
    },
    {
      "cell_type": "code",
      "source": [
        "datetime.now()"
      ],
      "metadata": {
        "id": "9jDgdd5-CvSk"
      },
      "execution_count": null,
      "outputs": []
    },
    {
      "cell_type": "code",
      "source": [
        "type(data_science_jobs[0]['job_date'])"
      ],
      "metadata": {
        "id": "Uz6fqLANCzzL"
      },
      "execution_count": null,
      "outputs": []
    },
    {
      "cell_type": "code",
      "source": [
        "test_date = data_science_jobs[0]['job_date']"
      ],
      "metadata": {
        "id": "EZWyr9CZC8-p"
      },
      "execution_count": null,
      "outputs": []
    },
    {
      "cell_type": "code",
      "source": [
        "print(datetime.strptime(test_date, '%Y-%m-%d'))"
      ],
      "metadata": {
        "id": "j8UWV233DpnB"
      },
      "execution_count": null,
      "outputs": []
    },
    {
      "cell_type": "code",
      "source": [
        "import ast\n",
        "\n",
        "for job in data_science_jobs:\n",
        "  job['job_date'] = datetime.strptime(test_date, '%Y-%m-%d')\n",
        "  job['job_skills'] = ast.literal_eval( job['job_skills'])"
      ],
      "metadata": {
        "id": "1qpPt6V2EDG3"
      },
      "execution_count": null,
      "outputs": []
    },
    {
      "cell_type": "code",
      "source": [
        "data_science_jobs"
      ],
      "metadata": {
        "id": "fnb2DOsAEuDU"
      },
      "execution_count": null,
      "outputs": []
    }
  ]
}